{
 "cells": [
  {
   "cell_type": "code",
   "execution_count": 1,
   "id": "f7b9ccd0",
   "metadata": {},
   "outputs": [],
   "source": [
    "import pandas as pd\n",
    "import numpy as np\n",
    "from sklearn.preprocessing import MinMaxScaler\n",
    "from matplotlib import pyplot as plt"
   ]
  },
  {
   "cell_type": "markdown",
   "id": "2b141918",
   "metadata": {},
   "source": [
    "## Loading the data "
   ]
  },
  {
   "cell_type": "code",
   "execution_count": 2,
   "id": "12683af7",
   "metadata": {},
   "outputs": [
    {
     "data": {
      "text/html": [
       "<div>\n",
       "<style scoped>\n",
       "    .dataframe tbody tr th:only-of-type {\n",
       "        vertical-align: middle;\n",
       "    }\n",
       "\n",
       "    .dataframe tbody tr th {\n",
       "        vertical-align: top;\n",
       "    }\n",
       "\n",
       "    .dataframe thead th {\n",
       "        text-align: right;\n",
       "    }\n",
       "</style>\n",
       "<table border=\"1\" class=\"dataframe\">\n",
       "  <thead>\n",
       "    <tr style=\"text-align: right;\">\n",
       "      <th></th>\n",
       "      <th>edge_id</th>\n",
       "      <th>length</th>\n",
       "      <th>minute</th>\n",
       "      <th>speed</th>\n",
       "      <th>is_holiday</th>\n",
       "      <th>weather</th>\n",
       "    </tr>\n",
       "  </thead>\n",
       "  <tbody>\n",
       "    <tr>\n",
       "      <th>0</th>\n",
       "      <td>246</td>\n",
       "      <td>1726</td>\n",
       "      <td>505</td>\n",
       "      <td>22.140185</td>\n",
       "      <td>1</td>\n",
       "      <td>1</td>\n",
       "    </tr>\n",
       "    <tr>\n",
       "      <th>1</th>\n",
       "      <td>316</td>\n",
       "      <td>1750</td>\n",
       "      <td>740</td>\n",
       "      <td>54.303369</td>\n",
       "      <td>0</td>\n",
       "      <td>0</td>\n",
       "    </tr>\n",
       "    <tr>\n",
       "      <th>2</th>\n",
       "      <td>387</td>\n",
       "      <td>1612</td>\n",
       "      <td>745</td>\n",
       "      <td>56.303877</td>\n",
       "      <td>0</td>\n",
       "      <td>1</td>\n",
       "    </tr>\n",
       "    <tr>\n",
       "      <th>3</th>\n",
       "      <td>303</td>\n",
       "      <td>1927</td>\n",
       "      <td>1335</td>\n",
       "      <td>23.641228</td>\n",
       "      <td>0</td>\n",
       "      <td>2</td>\n",
       "    </tr>\n",
       "    <tr>\n",
       "      <th>4</th>\n",
       "      <td>250</td>\n",
       "      <td>1901</td>\n",
       "      <td>915</td>\n",
       "      <td>41.503161</td>\n",
       "      <td>0</td>\n",
       "      <td>1</td>\n",
       "    </tr>\n",
       "  </tbody>\n",
       "</table>\n",
       "</div>"
      ],
      "text/plain": [
       "   edge_id  length  minute      speed  is_holiday  weather\n",
       "0      246    1726     505  22.140185           1        1\n",
       "1      316    1750     740  54.303369           0        0\n",
       "2      387    1612     745  56.303877           0        1\n",
       "3      303    1927    1335  23.641228           0        2\n",
       "4      250    1901     915  41.503161           0        1"
      ]
     },
     "execution_count": 2,
     "metadata": {},
     "output_type": "execute_result"
    }
   ],
   "source": [
    "df = pd.read_csv('dataset.csv')\n",
    "df.head()"
   ]
  },
  {
   "cell_type": "markdown",
   "id": "3bf7b56e",
   "metadata": {},
   "source": [
    "## Overview"
   ]
  },
  {
   "cell_type": "code",
   "execution_count": 3,
   "id": "16f69312",
   "metadata": {},
   "outputs": [
    {
     "data": {
      "text/html": [
       "<div>\n",
       "<style scoped>\n",
       "    .dataframe tbody tr th:only-of-type {\n",
       "        vertical-align: middle;\n",
       "    }\n",
       "\n",
       "    .dataframe tbody tr th {\n",
       "        vertical-align: top;\n",
       "    }\n",
       "\n",
       "    .dataframe thead th {\n",
       "        text-align: right;\n",
       "    }\n",
       "</style>\n",
       "<table border=\"1\" class=\"dataframe\">\n",
       "  <thead>\n",
       "    <tr style=\"text-align: right;\">\n",
       "      <th></th>\n",
       "      <th>edge_id</th>\n",
       "      <th>length</th>\n",
       "      <th>minute</th>\n",
       "      <th>speed</th>\n",
       "      <th>is_holiday</th>\n",
       "      <th>weather</th>\n",
       "    </tr>\n",
       "  </thead>\n",
       "  <tbody>\n",
       "    <tr>\n",
       "      <th>count</th>\n",
       "      <td>784224.000000</td>\n",
       "      <td>784224.000000</td>\n",
       "      <td>784224.000000</td>\n",
       "      <td>768540.000000</td>\n",
       "      <td>784224.000000</td>\n",
       "      <td>784224.000000</td>\n",
       "    </tr>\n",
       "    <tr>\n",
       "      <th>mean</th>\n",
       "      <td>194.876607</td>\n",
       "      <td>1742.886889</td>\n",
       "      <td>717.500000</td>\n",
       "      <td>42.649084</td>\n",
       "      <td>0.142857</td>\n",
       "      <td>0.450133</td>\n",
       "    </tr>\n",
       "    <tr>\n",
       "      <th>std</th>\n",
       "      <td>112.482005</td>\n",
       "      <td>144.971298</td>\n",
       "      <td>415.689953</td>\n",
       "      <td>12.845111</td>\n",
       "      <td>0.349927</td>\n",
       "      <td>0.589825</td>\n",
       "    </tr>\n",
       "    <tr>\n",
       "      <th>min</th>\n",
       "      <td>0.000000</td>\n",
       "      <td>1501.000000</td>\n",
       "      <td>0.000000</td>\n",
       "      <td>3.290549</td>\n",
       "      <td>0.000000</td>\n",
       "      <td>0.000000</td>\n",
       "    </tr>\n",
       "    <tr>\n",
       "      <th>25%</th>\n",
       "      <td>98.000000</td>\n",
       "      <td>1612.000000</td>\n",
       "      <td>358.750000</td>\n",
       "      <td>34.569791</td>\n",
       "      <td>0.000000</td>\n",
       "      <td>0.000000</td>\n",
       "    </tr>\n",
       "    <tr>\n",
       "      <th>50%</th>\n",
       "      <td>195.000000</td>\n",
       "      <td>1741.000000</td>\n",
       "      <td>717.500000</td>\n",
       "      <td>42.591930</td>\n",
       "      <td>0.000000</td>\n",
       "      <td>0.000000</td>\n",
       "    </tr>\n",
       "    <tr>\n",
       "      <th>75%</th>\n",
       "      <td>292.000000</td>\n",
       "      <td>1865.000000</td>\n",
       "      <td>1076.250000</td>\n",
       "      <td>50.520944</td>\n",
       "      <td>0.000000</td>\n",
       "      <td>1.000000</td>\n",
       "    </tr>\n",
       "    <tr>\n",
       "      <th>max</th>\n",
       "      <td>389.000000</td>\n",
       "      <td>2000.000000</td>\n",
       "      <td>1435.000000</td>\n",
       "      <td>137.670425</td>\n",
       "      <td>1.000000</td>\n",
       "      <td>2.000000</td>\n",
       "    </tr>\n",
       "  </tbody>\n",
       "</table>\n",
       "</div>"
      ],
      "text/plain": [
       "             edge_id         length         minute          speed  \\\n",
       "count  784224.000000  784224.000000  784224.000000  768540.000000   \n",
       "mean      194.876607    1742.886889     717.500000      42.649084   \n",
       "std       112.482005     144.971298     415.689953      12.845111   \n",
       "min         0.000000    1501.000000       0.000000       3.290549   \n",
       "25%        98.000000    1612.000000     358.750000      34.569791   \n",
       "50%       195.000000    1741.000000     717.500000      42.591930   \n",
       "75%       292.000000    1865.000000    1076.250000      50.520944   \n",
       "max       389.000000    2000.000000    1435.000000     137.670425   \n",
       "\n",
       "          is_holiday        weather  \n",
       "count  784224.000000  784224.000000  \n",
       "mean        0.142857       0.450133  \n",
       "std         0.349927       0.589825  \n",
       "min         0.000000       0.000000  \n",
       "25%         0.000000       0.000000  \n",
       "50%         0.000000       0.000000  \n",
       "75%         0.000000       1.000000  \n",
       "max         1.000000       2.000000  "
      ]
     },
     "execution_count": 3,
     "metadata": {},
     "output_type": "execute_result"
    }
   ],
   "source": [
    "df.describe()"
   ]
  },
  {
   "cell_type": "code",
   "execution_count": 3,
   "id": "2d5c36ea",
   "metadata": {},
   "outputs": [
    {
     "data": {
      "text/plain": [
       "(784224, 6)"
      ]
     },
     "execution_count": 3,
     "metadata": {},
     "output_type": "execute_result"
    }
   ],
   "source": [
    "df.shape"
   ]
  },
  {
   "cell_type": "code",
   "execution_count": 5,
   "id": "6bb28c55",
   "metadata": {},
   "outputs": [
    {
     "name": "stdout",
     "output_type": "stream",
     "text": [
      "<class 'pandas.core.frame.DataFrame'>\n",
      "RangeIndex: 784224 entries, 0 to 784223\n",
      "Data columns (total 6 columns):\n",
      " #   Column      Non-Null Count   Dtype  \n",
      "---  ------      --------------   -----  \n",
      " 0   edge_id     784224 non-null  int64  \n",
      " 1   length      784224 non-null  int64  \n",
      " 2   minute      784224 non-null  int64  \n",
      " 3   speed       768540 non-null  float64\n",
      " 4   is_holiday  784224 non-null  int64  \n",
      " 5   weather     784224 non-null  int64  \n",
      "dtypes: float64(1), int64(5)\n",
      "memory usage: 35.9 MB\n"
     ]
    }
   ],
   "source": [
    "df.info()"
   ]
  },
  {
   "cell_type": "markdown",
   "id": "00fda6ae",
   "metadata": {},
   "source": [
    "## Loading the test_cases data"
   ]
  },
  {
   "cell_type": "code",
   "execution_count": 4,
   "id": "922d7a69",
   "metadata": {},
   "outputs": [
    {
     "data": {
      "text/html": [
       "<div>\n",
       "<style scoped>\n",
       "    .dataframe tbody tr th:only-of-type {\n",
       "        vertical-align: middle;\n",
       "    }\n",
       "\n",
       "    .dataframe tbody tr th {\n",
       "        vertical-align: top;\n",
       "    }\n",
       "\n",
       "    .dataframe thead th {\n",
       "        text-align: right;\n",
       "    }\n",
       "</style>\n",
       "<table border=\"1\" class=\"dataframe\">\n",
       "  <thead>\n",
       "    <tr style=\"text-align: right;\">\n",
       "      <th></th>\n",
       "      <th>src</th>\n",
       "      <th>dest</th>\n",
       "      <th>route_start_t</th>\n",
       "      <th>is_holiday</th>\n",
       "      <th>weather</th>\n",
       "      <th>eta</th>\n",
       "      <th>route</th>\n",
       "    </tr>\n",
       "  </thead>\n",
       "  <tbody>\n",
       "    <tr>\n",
       "      <th>0</th>\n",
       "      <td>27</td>\n",
       "      <td>90</td>\n",
       "      <td>521</td>\n",
       "      <td>0</td>\n",
       "      <td>0</td>\n",
       "      <td>NaN</td>\n",
       "      <td>NaN</td>\n",
       "    </tr>\n",
       "    <tr>\n",
       "      <th>1</th>\n",
       "      <td>60</td>\n",
       "      <td>114</td>\n",
       "      <td>835</td>\n",
       "      <td>1</td>\n",
       "      <td>2</td>\n",
       "      <td>NaN</td>\n",
       "      <td>NaN</td>\n",
       "    </tr>\n",
       "    <tr>\n",
       "      <th>2</th>\n",
       "      <td>18</td>\n",
       "      <td>112</td>\n",
       "      <td>668</td>\n",
       "      <td>0</td>\n",
       "      <td>0</td>\n",
       "      <td>NaN</td>\n",
       "      <td>NaN</td>\n",
       "    </tr>\n",
       "    <tr>\n",
       "      <th>3</th>\n",
       "      <td>96</td>\n",
       "      <td>18</td>\n",
       "      <td>1114</td>\n",
       "      <td>0</td>\n",
       "      <td>2</td>\n",
       "      <td>NaN</td>\n",
       "      <td>NaN</td>\n",
       "    </tr>\n",
       "    <tr>\n",
       "      <th>4</th>\n",
       "      <td>66</td>\n",
       "      <td>135</td>\n",
       "      <td>1116</td>\n",
       "      <td>0</td>\n",
       "      <td>0</td>\n",
       "      <td>NaN</td>\n",
       "      <td>NaN</td>\n",
       "    </tr>\n",
       "  </tbody>\n",
       "</table>\n",
       "</div>"
      ],
      "text/plain": [
       "   src  dest  route_start_t  is_holiday  weather  eta  route\n",
       "0   27    90            521           0        0  NaN    NaN\n",
       "1   60   114            835           1        2  NaN    NaN\n",
       "2   18   112            668           0        0  NaN    NaN\n",
       "3   96    18           1114           0        2  NaN    NaN\n",
       "4   66   135           1116           0        0  NaN    NaN"
      ]
     },
     "execution_count": 4,
     "metadata": {},
     "output_type": "execute_result"
    }
   ],
   "source": [
    "df2 = pd.read_csv('test_cases.csv')\n",
    "df2.head()"
   ]
  },
  {
   "cell_type": "markdown",
   "id": "80169077",
   "metadata": {},
   "source": [
    "## Data cleaning: Missing values"
   ]
  },
  {
   "cell_type": "code",
   "execution_count": 5,
   "id": "84062667",
   "metadata": {},
   "outputs": [],
   "source": [
    "df.fillna(value=df['speed'].mean(), inplace=True)"
   ]
  },
  {
   "cell_type": "code",
   "execution_count": 8,
   "id": "64a8add4",
   "metadata": {},
   "outputs": [
    {
     "name": "stdout",
     "output_type": "stream",
     "text": [
      "<class 'pandas.core.frame.DataFrame'>\n",
      "RangeIndex: 784224 entries, 0 to 784223\n",
      "Data columns (total 6 columns):\n",
      " #   Column      Non-Null Count   Dtype  \n",
      "---  ------      --------------   -----  \n",
      " 0   edge_id     784224 non-null  int64  \n",
      " 1   length      784224 non-null  int64  \n",
      " 2   minute      784224 non-null  int64  \n",
      " 3   speed       784224 non-null  float64\n",
      " 4   is_holiday  784224 non-null  int64  \n",
      " 5   weather     784224 non-null  int64  \n",
      "dtypes: float64(1), int64(5)\n",
      "memory usage: 35.9 MB\n"
     ]
    }
   ],
   "source": [
    "df.info()"
   ]
  },
  {
   "cell_type": "markdown",
   "id": "fb785450",
   "metadata": {},
   "source": [
    "## Data normalization"
   ]
  },
  {
   "cell_type": "code",
   "execution_count": 7,
   "id": "0ce7664c",
   "metadata": {},
   "outputs": [],
   "source": [
    "#scaler = MinMaxScaler()\n",
    "#scaler.fit(df[['speed']])\n",
    "#df['speed'] = scaler.transform(df[['speed']])\n",
    "#df.head()"
   ]
  },
  {
   "cell_type": "code",
   "execution_count": 6,
   "id": "30122ad7",
   "metadata": {},
   "outputs": [
    {
     "data": {
      "text/plain": [
       "42.649084324810595"
      ]
     },
     "execution_count": 6,
     "metadata": {},
     "output_type": "execute_result"
    }
   ],
   "source": [
    "df['speed'].mean()"
   ]
  },
  {
   "cell_type": "code",
   "execution_count": 7,
   "id": "ac3697a9",
   "metadata": {},
   "outputs": [],
   "source": [
    "df = df[df['speed'] < 120]"
   ]
  },
  {
   "cell_type": "code",
   "execution_count": 8,
   "id": "bff49691",
   "metadata": {},
   "outputs": [
    {
     "data": {
      "text/plain": [
       "119.74567376184304"
      ]
     },
     "execution_count": 8,
     "metadata": {},
     "output_type": "execute_result"
    }
   ],
   "source": [
    "max(df['speed'])"
   ]
  },
  {
   "cell_type": "markdown",
   "id": "c6776b0c",
   "metadata": {},
   "source": [
    "## Plots"
   ]
  },
  {
   "cell_type": "code",
   "execution_count": 15,
   "id": "23fea3bb",
   "metadata": {},
   "outputs": [],
   "source": [
    "def histogram(column):\n",
    "    plt.figure(figsize=(8, 5))\n",
    "    plt.hist(df[column], bins=300)\n",
    "    plt.xlabel('feature')\n",
    "    plt.ylabel('Count')\n",
    "    plt.title(column)\n",
    "    plt.show()"
   ]
  },
  {
   "cell_type": "code",
   "execution_count": 16,
   "id": "dd3ce5e4",
   "metadata": {},
   "outputs": [
    {
     "data": {
      "image/png": "[encoded data removed]",
      "text/plain": [
       "<Figure size 576x360 with 1 Axes>"
      ]
     },
     "metadata": {
      "needs_background": "light"
     },
     "output_type": "display_data"
    }
   ],
   "source": [
    "histogram('length')"
   ]
  },
  {
   "cell_type": "code",
   "execution_count": 17,
   "id": "d2118253",
   "metadata": {},
   "outputs": [
    {
     "data": {
      "image/png": "[encoded data removed]",
      "text/plain": [
       "<Figure size 576x360 with 1 Axes>"
      ]
     },
     "metadata": {
      "needs_background": "light"
     },
     "output_type": "display_data"
    }
   ],
   "source": [
    "histogram('speed')"
   ]
  },
  {
   "cell_type": "code",
   "execution_count": 18,
   "id": "1c940df6",
   "metadata": {
    "scrolled": true
   },
   "outputs": [
    {
     "data": {
      "image/png": "[encoded data removed]",
      "text/plain": [
       "<Figure size 576x360 with 1 Axes>"
      ]
     },
     "metadata": {
      "needs_background": "light"
     },
     "output_type": "display_data"
    }
   ],
   "source": [
    "histogram(\"minute\")"
   ]
  },
  {
   "cell_type": "code",
   "execution_count": 19,
   "id": "edf2ffe1",
   "metadata": {
    "scrolled": true
   },
   "outputs": [
    {
     "data": {
      "text/plain": [
       "Text(0, 0.5, 'length')"
      ]
     },
     "execution_count": 19,
     "metadata": {},
     "output_type": "execute_result"
    },
    {
     "data": {
      "image/png": "[encoded data removed]",
      "text/plain": [
       "<Figure size 576x360 with 1 Axes>"
      ]
     },
     "metadata": {
      "needs_background": "light"
     },
     "output_type": "display_data"
    }
   ],
   "source": [
    "plt.figure(figsize=(8, 5))\n",
    "plt.scatter(df['length'], df['minute'], s=0.1, c='red')\n",
    "plt.xlabel('minute')\n",
    "plt.ylabel('length')"
   ]
  },
  {
   "cell_type": "code",
   "execution_count": 20,
   "id": "d740f3ea",
   "metadata": {
    "scrolled": false
   },
   "outputs": [
    {
     "data": {
      "text/plain": [
       "Text(0, 0.5, 'length')"
      ]
     },
     "execution_count": 20,
     "metadata": {},
     "output_type": "execute_result"
    },
    {
     "data": {
      "image/png": "[encoded data removed]",
      "text/plain": [
       "<Figure size 576x360 with 1 Axes>"
      ]
     },
     "metadata": {
      "needs_background": "light"
     },
     "output_type": "display_data"
    }
   ],
   "source": [
    "plt.figure(figsize=(8, 5))\n",
    "plt.scatter(df['length'], df['speed'], s=0.1, c='red')\n",
    "plt.xlabel('speed')\n",
    "plt.ylabel('length')"
   ]
  },
  {
   "cell_type": "code",
   "execution_count": 21,
   "id": "d8d4c2f0",
   "metadata": {},
   "outputs": [
    {
     "data": {
      "text/plain": [
       "Text(0, 0.5, 'speed')"
      ]
     },
     "execution_count": 21,
     "metadata": {},
     "output_type": "execute_result"
    },
    {
     "data": {
      "image/png": "[encoded data removed]",
      "text/plain": [
       "<Figure size 576x360 with 1 Axes>"
      ]
     },
     "metadata": {
      "needs_background": "light"
     },
     "output_type": "display_data"
    }
   ],
   "source": [
    "plt.figure(figsize=(8, 5))\n",
    "plt.scatter(df['speed'], df['minute'], s=0.1, c='red')\n",
    "plt.xlabel('minute')\n",
    "plt.ylabel('speed')"
   ]
  },
  {
   "cell_type": "markdown",
   "id": "ffaaeb50",
   "metadata": {},
   "source": [
    "## Calculating time"
   ]
  },
  {
   "cell_type": "code",
   "execution_count": 9,
   "id": "54e690c6",
   "metadata": {},
   "outputs": [
    {
     "data": {
      "text/html": [
       "<div>\n",
       "<style scoped>\n",
       "    .dataframe tbody tr th:only-of-type {\n",
       "        vertical-align: middle;\n",
       "    }\n",
       "\n",
       "    .dataframe tbody tr th {\n",
       "        vertical-align: top;\n",
       "    }\n",
       "\n",
       "    .dataframe thead th {\n",
       "        text-align: right;\n",
       "    }\n",
       "</style>\n",
       "<table border=\"1\" class=\"dataframe\">\n",
       "  <thead>\n",
       "    <tr style=\"text-align: right;\">\n",
       "      <th></th>\n",
       "      <th>edge_id</th>\n",
       "      <th>length</th>\n",
       "      <th>minute</th>\n",
       "      <th>speed</th>\n",
       "      <th>is_holiday</th>\n",
       "      <th>weather</th>\n",
       "      <th>time</th>\n",
       "    </tr>\n",
       "  </thead>\n",
       "  <tbody>\n",
       "    <tr>\n",
       "      <th>0</th>\n",
       "      <td>246</td>\n",
       "      <td>1726</td>\n",
       "      <td>505</td>\n",
       "      <td>22.140185</td>\n",
       "      <td>1</td>\n",
       "      <td>1</td>\n",
       "      <td>280.647836</td>\n",
       "    </tr>\n",
       "    <tr>\n",
       "      <th>1</th>\n",
       "      <td>316</td>\n",
       "      <td>1750</td>\n",
       "      <td>740</td>\n",
       "      <td>54.303369</td>\n",
       "      <td>0</td>\n",
       "      <td>0</td>\n",
       "      <td>116.014809</td>\n",
       "    </tr>\n",
       "    <tr>\n",
       "      <th>2</th>\n",
       "      <td>387</td>\n",
       "      <td>1612</td>\n",
       "      <td>745</td>\n",
       "      <td>56.303877</td>\n",
       "      <td>0</td>\n",
       "      <td>1</td>\n",
       "      <td>103.069197</td>\n",
       "    </tr>\n",
       "    <tr>\n",
       "      <th>3</th>\n",
       "      <td>303</td>\n",
       "      <td>1927</td>\n",
       "      <td>1335</td>\n",
       "      <td>23.641228</td>\n",
       "      <td>0</td>\n",
       "      <td>2</td>\n",
       "      <td>293.436305</td>\n",
       "    </tr>\n",
       "    <tr>\n",
       "      <th>4</th>\n",
       "      <td>250</td>\n",
       "      <td>1901</td>\n",
       "      <td>915</td>\n",
       "      <td>41.503161</td>\n",
       "      <td>0</td>\n",
       "      <td>1</td>\n",
       "      <td>164.893334</td>\n",
       "    </tr>\n",
       "  </tbody>\n",
       "</table>\n",
       "</div>"
      ],
      "text/plain": [
       "   edge_id  length  minute      speed  is_holiday  weather        time\n",
       "0      246    1726     505  22.140185           1        1  280.647836\n",
       "1      316    1750     740  54.303369           0        0  116.014809\n",
       "2      387    1612     745  56.303877           0        1  103.069197\n",
       "3      303    1927    1335  23.641228           0        2  293.436305\n",
       "4      250    1901     915  41.503161           0        1  164.893334"
      ]
     },
     "execution_count": 9,
     "metadata": {},
     "output_type": "execute_result"
    }
   ],
   "source": [
    "def cal_time(dist, speed):\n",
    "    return dist / (speed * 0.277778);\n",
    "\n",
    "df['time'] = cal_time(df.length, df.speed)\n",
    "df.head()"
   ]
  },
  {
   "cell_type": "code",
   "execution_count": 23,
   "id": "2e20805a",
   "metadata": {},
   "outputs": [
    {
     "data": {
      "text/html": [
       "<div>\n",
       "<style scoped>\n",
       "    .dataframe tbody tr th:only-of-type {\n",
       "        vertical-align: middle;\n",
       "    }\n",
       "\n",
       "    .dataframe tbody tr th {\n",
       "        vertical-align: top;\n",
       "    }\n",
       "\n",
       "    .dataframe thead th {\n",
       "        text-align: right;\n",
       "    }\n",
       "</style>\n",
       "<table border=\"1\" class=\"dataframe\">\n",
       "  <thead>\n",
       "    <tr style=\"text-align: right;\">\n",
       "      <th></th>\n",
       "      <th>edge_id</th>\n",
       "      <th>length</th>\n",
       "      <th>minute</th>\n",
       "      <th>speed</th>\n",
       "      <th>is_holiday</th>\n",
       "      <th>weather</th>\n",
       "      <th>time</th>\n",
       "    </tr>\n",
       "  </thead>\n",
       "  <tbody>\n",
       "    <tr>\n",
       "      <th>edge_id</th>\n",
       "      <td>1.000000</td>\n",
       "      <td>0.038151</td>\n",
       "      <td>0.000005</td>\n",
       "      <td>0.009489</td>\n",
       "      <td>-0.000013</td>\n",
       "      <td>0.000752</td>\n",
       "      <td>-0.000170</td>\n",
       "    </tr>\n",
       "    <tr>\n",
       "      <th>length</th>\n",
       "      <td>0.038151</td>\n",
       "      <td>1.000000</td>\n",
       "      <td>-0.000015</td>\n",
       "      <td>0.008070</td>\n",
       "      <td>0.000025</td>\n",
       "      <td>0.002033</td>\n",
       "      <td>0.197425</td>\n",
       "    </tr>\n",
       "    <tr>\n",
       "      <th>minute</th>\n",
       "      <td>0.000005</td>\n",
       "      <td>-0.000015</td>\n",
       "      <td>1.000000</td>\n",
       "      <td>-0.345920</td>\n",
       "      <td>0.000047</td>\n",
       "      <td>-0.000298</td>\n",
       "      <td>0.294071</td>\n",
       "    </tr>\n",
       "    <tr>\n",
       "      <th>speed</th>\n",
       "      <td>0.009489</td>\n",
       "      <td>0.008070</td>\n",
       "      <td>-0.345920</td>\n",
       "      <td>1.000000</td>\n",
       "      <td>0.238124</td>\n",
       "      <td>-0.388417</td>\n",
       "      <td>-0.842891</td>\n",
       "    </tr>\n",
       "    <tr>\n",
       "      <th>is_holiday</th>\n",
       "      <td>-0.000013</td>\n",
       "      <td>0.000025</td>\n",
       "      <td>0.000047</td>\n",
       "      <td>0.238124</td>\n",
       "      <td>1.000000</td>\n",
       "      <td>-0.000966</td>\n",
       "      <td>-0.125495</td>\n",
       "    </tr>\n",
       "    <tr>\n",
       "      <th>weather</th>\n",
       "      <td>0.000752</td>\n",
       "      <td>0.002033</td>\n",
       "      <td>-0.000298</td>\n",
       "      <td>-0.388417</td>\n",
       "      <td>-0.000966</td>\n",
       "      <td>1.000000</td>\n",
       "      <td>0.424843</td>\n",
       "    </tr>\n",
       "    <tr>\n",
       "      <th>time</th>\n",
       "      <td>-0.000170</td>\n",
       "      <td>0.197425</td>\n",
       "      <td>0.294071</td>\n",
       "      <td>-0.842891</td>\n",
       "      <td>-0.125495</td>\n",
       "      <td>0.424843</td>\n",
       "      <td>1.000000</td>\n",
       "    </tr>\n",
       "  </tbody>\n",
       "</table>\n",
       "</div>"
      ],
      "text/plain": [
       "             edge_id    length    minute     speed  is_holiday   weather  \\\n",
       "edge_id     1.000000  0.038151  0.000005  0.009489   -0.000013  0.000752   \n",
       "length      0.038151  1.000000 -0.000015  0.008070    0.000025  0.002033   \n",
       "minute      0.000005 -0.000015  1.000000 -0.345920    0.000047 -0.000298   \n",
       "speed       0.009489  0.008070 -0.345920  1.000000    0.238124 -0.388417   \n",
       "is_holiday -0.000013  0.000025  0.000047  0.238124    1.000000 -0.000966   \n",
       "weather     0.000752  0.002033 -0.000298 -0.388417   -0.000966  1.000000   \n",
       "time       -0.000170  0.197425  0.294071 -0.842891   -0.125495  0.424843   \n",
       "\n",
       "                time  \n",
       "edge_id    -0.000170  \n",
       "length      0.197425  \n",
       "minute      0.294071  \n",
       "speed      -0.842891  \n",
       "is_holiday -0.125495  \n",
       "weather     0.424843  \n",
       "time        1.000000  "
      ]
     },
     "execution_count": 23,
     "metadata": {},
     "output_type": "execute_result"
    }
   ],
   "source": [
    "df.corr()"
   ]
  },
  {
   "cell_type": "markdown",
   "id": "e4ebcd3e",
   "metadata": {},
   "source": [
    "## Models"
   ]
  },
  {
   "cell_type": "markdown",
   "id": "49072c96",
   "metadata": {},
   "source": [
    "Linear Regression"
   ]
  },
  {
   "cell_type": "code",
   "execution_count": 24,
   "id": "62e1abe6",
   "metadata": {},
   "outputs": [],
   "source": [
    "import statsmodels.formula.api as sm"
   ]
  },
  {
   "cell_type": "code",
   "execution_count": 25,
   "id": "6b0c5cfe",
   "metadata": {},
   "outputs": [
    {
     "data": {
      "text/html": [
       "<table class=\"simpletable\">\n",
       "<caption>OLS Regression Results</caption>\n",
       "<tr>\n",
       "  <th>Dep. Variable:</th>          <td>time</td>       <th>  R-squared:         </th>  <td>   0.321</td>  \n",
       "</tr>\n",
       "<tr>\n",
       "  <th>Model:</th>                   <td>OLS</td>       <th>  Adj. R-squared:    </th>  <td>   0.321</td>  \n",
       "</tr>\n",
       "<tr>\n",
       "  <th>Method:</th>             <td>Least Squares</td>  <th>  F-statistic:       </th>  <td>9.282e+04</td> \n",
       "</tr>\n",
       "<tr>\n",
       "  <th>Date:</th>             <td>Fri, 16 Sep 2022</td> <th>  Prob (F-statistic):</th>   <td>  0.00</td>   \n",
       "</tr>\n",
       "<tr>\n",
       "  <th>Time:</th>                 <td>18:07:31</td>     <th>  Log-Likelihood:    </th> <td>-4.2743e+06</td>\n",
       "</tr>\n",
       "<tr>\n",
       "  <th>No. Observations:</th>      <td>784202</td>      <th>  AIC:               </th>  <td>8.549e+06</td> \n",
       "</tr>\n",
       "<tr>\n",
       "  <th>Df Residuals:</th>          <td>784197</td>      <th>  BIC:               </th>  <td>8.549e+06</td> \n",
       "</tr>\n",
       "<tr>\n",
       "  <th>Df Model:</th>              <td>     4</td>      <th>                     </th>      <td> </td>     \n",
       "</tr>\n",
       "<tr>\n",
       "  <th>Covariance Type:</th>      <td>nonrobust</td>    <th>                     </th>      <td> </td>     \n",
       "</tr>\n",
       "</table>\n",
       "<table class=\"simpletable\">\n",
       "<tr>\n",
       "       <td></td>         <th>coef</th>     <th>std err</th>      <th>t</th>      <th>P>|t|</th>  <th>[0.025</th>    <th>0.975]</th>  \n",
       "</tr>\n",
       "<tr>\n",
       "  <th>Intercept</th>  <td>  -50.7341</td> <td>    0.777</td> <td>  -65.269</td> <td> 0.000</td> <td>  -52.258</td> <td>  -49.211</td>\n",
       "</tr>\n",
       "<tr>\n",
       "  <th>weather</th>    <td>   49.2168</td> <td>    0.108</td> <td>  456.214</td> <td> 0.000</td> <td>   49.005</td> <td>   49.428</td>\n",
       "</tr>\n",
       "<tr>\n",
       "  <th>is_holiday</th> <td>  -24.4554</td> <td>    0.182</td> <td> -134.479</td> <td> 0.000</td> <td>  -24.812</td> <td>  -24.099</td>\n",
       "</tr>\n",
       "<tr>\n",
       "  <th>minute</th>     <td>    0.0484</td> <td>    0.000</td> <td>  316.254</td> <td> 0.000</td> <td>    0.048</td> <td>    0.049</td>\n",
       "</tr>\n",
       "<tr>\n",
       "  <th>length</th>     <td>    0.0927</td> <td>    0.000</td> <td>  211.300</td> <td> 0.000</td> <td>    0.092</td> <td>    0.094</td>\n",
       "</tr>\n",
       "</table>\n",
       "<table class=\"simpletable\">\n",
       "<tr>\n",
       "  <th>Omnibus:</th>       <td>449098.084</td> <th>  Durbin-Watson:     </th>  <td>   2.004</td>  \n",
       "</tr>\n",
       "<tr>\n",
       "  <th>Prob(Omnibus):</th>   <td> 0.000</td>   <th>  Jarque-Bera (JB):  </th> <td>8753467.724</td>\n",
       "</tr>\n",
       "<tr>\n",
       "  <th>Skew:</th>            <td> 2.368</td>   <th>  Prob(JB):          </th>  <td>    0.00</td>  \n",
       "</tr>\n",
       "<tr>\n",
       "  <th>Kurtosis:</th>        <td>18.667</td>   <th>  Cond. No.          </th>  <td>2.32e+04</td>  \n",
       "</tr>\n",
       "</table><br/><br/>Notes:<br/>[1] Standard Errors assume that the covariance matrix of the errors is correctly specified.<br/>[2] The condition number is large, 2.32e+04. This might indicate that there are<br/>strong multicollinearity or other numerical problems."
      ],
      "text/plain": [
       "<class 'statsmodels.iolib.summary.Summary'>\n",
       "\"\"\"\n",
       "                            OLS Regression Results                            \n",
       "==============================================================================\n",
       "Dep. Variable:                   time   R-squared:                       0.321\n",
       "Model:                            OLS   Adj. R-squared:                  0.321\n",
       "Method:                 Least Squares   F-statistic:                 9.282e+04\n",
       "Date:                Fri, 16 Sep 2022   Prob (F-statistic):               0.00\n",
       "Time:                        18:07:31   Log-Likelihood:            -4.2743e+06\n",
       "No. Observations:              784202   AIC:                         8.549e+06\n",
       "Df Residuals:                  784197   BIC:                         8.549e+06\n",
       "Df Model:                           4                                         \n",
       "Covariance Type:            nonrobust                                         \n",
       "==============================================================================\n",
       "                 coef    std err          t      P>|t|      [0.025      0.975]\n",
       "------------------------------------------------------------------------------\n",
       "Intercept    -50.7341      0.777    -65.269      0.000     -52.258     -49.211\n",
       "weather       49.2168      0.108    456.214      0.000      49.005      49.428\n",
       "is_holiday   -24.4554      0.182   -134.479      0.000     -24.812     -24.099\n",
       "minute         0.0484      0.000    316.254      0.000       0.048       0.049\n",
       "length         0.0927      0.000    211.300      0.000       0.092       0.094\n",
       "==============================================================================\n",
       "Omnibus:                   449098.084   Durbin-Watson:                   2.004\n",
       "Prob(Omnibus):                  0.000   Jarque-Bera (JB):          8753467.724\n",
       "Skew:                           2.368   Prob(JB):                         0.00\n",
       "Kurtosis:                      18.667   Cond. No.                     2.32e+04\n",
       "==============================================================================\n",
       "\n",
       "Notes:\n",
       "[1] Standard Errors assume that the covariance matrix of the errors is correctly specified.\n",
       "[2] The condition number is large, 2.32e+04. This might indicate that there are\n",
       "strong multicollinearity or other numerical problems.\n",
       "\"\"\""
      ]
     },
     "execution_count": 25,
     "metadata": {},
     "output_type": "execute_result"
    }
   ],
   "source": [
    "model = sm.ols(formula=\"time ~ weather +  is_holiday + minute + length\", data=df).fit()\n",
    "model.summary()"
   ]
  },
  {
   "cell_type": "code",
   "execution_count": 26,
   "id": "ed89027e",
   "metadata": {},
   "outputs": [
    {
     "data": {
      "text/plain": [
       "Intercept    -50.734146\n",
       "weather       49.216816\n",
       "is_holiday   -24.455417\n",
       "minute         0.048411\n",
       "length         0.092744\n",
       "dtype: float64"
      ]
     },
     "execution_count": 26,
     "metadata": {},
     "output_type": "execute_result"
    }
   ],
   "source": [
    "model.params"
   ]
  },
  {
   "cell_type": "code",
   "execution_count": 10,
   "id": "ba642fc3",
   "metadata": {},
   "outputs": [
    {
     "data": {
      "text/plain": [
       "((784202, 4), (784202,))"
      ]
     },
     "execution_count": 10,
     "metadata": {},
     "output_type": "execute_result"
    }
   ],
   "source": [
    "X, y = df[[\"length\", \"minute\", \"is_holiday\", \"weather\"]], df[\"time\"]\n",
    "X.shape, y.shape\n"
   ]
  },
  {
   "cell_type": "code",
   "execution_count": 11,
   "id": "ec043cbe",
   "metadata": {},
   "outputs": [],
   "source": [
    "from sklearn.model_selection import train_test_split\n",
    "X_train, X_test, y_train, y_test = train_test_split(X, y, test_size=0.10, random_state=42)"
   ]
  },
  {
   "cell_type": "markdown",
   "id": "ed02b56d",
   "metadata": {},
   "source": [
    "Neural Network"
   ]
  },
  {
   "cell_type": "code",
   "execution_count": null,
   "id": "a2527597",
   "metadata": {},
   "outputs": [],
   "source": [
    "from sklearn.neural_network import MLPRegressor\n",
    "\n",
    "model4 = MLPRegressor.fit(X_train, y_train)"
   ]
  },
  {
   "cell_type": "code",
   "execution_count": null,
   "id": "97004f0c",
   "metadata": {},
   "outputs": [],
   "source": [
    "print(model4.score(X_train, y_train), model4.score(X_test, y_test))"
   ]
  },
  {
   "cell_type": "markdown",
   "id": "26cd3e34",
   "metadata": {},
   "source": [
    "Light GBM"
   ]
  },
  {
   "cell_type": "code",
   "execution_count": 21,
   "id": "af032f46",
   "metadata": {},
   "outputs": [
    {
     "data": {
      "text/html": [
       "<style>#sk-container-id-3 {color: black;background-color: white;}#sk-container-id-3 pre{padding: 0;}#sk-container-id-3 div.sk-toggleable {background-color: white;}#sk-container-id-3 label.sk-toggleable__label {cursor: pointer;display: block;width: 100%;margin-bottom: 0;padding: 0.3em;box-sizing: border-box;text-align: center;}#sk-container-id-3 label.sk-toggleable__label-arrow:before {content: \"▸\";float: left;margin-right: 0.25em;color: #696969;}#sk-container-id-3 label.sk-toggleable__label-arrow:hover:before {color: black;}#sk-container-id-3 div.sk-estimator:hover label.sk-toggleable__label-arrow:before {color: black;}#sk-container-id-3 div.sk-toggleable__content {max-height: 0;max-width: 0;overflow: hidden;text-align: left;background-color: #f0f8ff;}#sk-container-id-3 div.sk-toggleable__content pre {margin: 0.2em;color: black;border-radius: 0.25em;background-color: #f0f8ff;}#sk-container-id-3 input.sk-toggleable__control:checked~div.sk-toggleable__content {max-height: 200px;max-width: 100%;overflow: auto;}#sk-container-id-3 input.sk-toggleable__control:checked~label.sk-toggleable__label-arrow:before {content: \"▾\";}#sk-container-id-3 div.sk-estimator input.sk-toggleable__control:checked~label.sk-toggleable__label {background-color: #d4ebff;}#sk-container-id-3 div.sk-label input.sk-toggleable__control:checked~label.sk-toggleable__label {background-color: #d4ebff;}#sk-container-id-3 input.sk-hidden--visually {border: 0;clip: rect(1px 1px 1px 1px);clip: rect(1px, 1px, 1px, 1px);height: 1px;margin: -1px;overflow: hidden;padding: 0;position: absolute;width: 1px;}#sk-container-id-3 div.sk-estimator {font-family: monospace;background-color: #f0f8ff;border: 1px dotted black;border-radius: 0.25em;box-sizing: border-box;margin-bottom: 0.5em;}#sk-container-id-3 div.sk-estimator:hover {background-color: #d4ebff;}#sk-container-id-3 div.sk-parallel-item::after {content: \"\";width: 100%;border-bottom: 1px solid gray;flex-grow: 1;}#sk-container-id-3 div.sk-label:hover label.sk-toggleable__label {background-color: #d4ebff;}#sk-container-id-3 div.sk-serial::before {content: \"\";position: absolute;border-left: 1px solid gray;box-sizing: border-box;top: 0;bottom: 0;left: 50%;z-index: 0;}#sk-container-id-3 div.sk-serial {display: flex;flex-direction: column;align-items: center;background-color: white;padding-right: 0.2em;padding-left: 0.2em;position: relative;}#sk-container-id-3 div.sk-item {position: relative;z-index: 1;}#sk-container-id-3 div.sk-parallel {display: flex;align-items: stretch;justify-content: center;background-color: white;position: relative;}#sk-container-id-3 div.sk-item::before, #sk-container-id-3 div.sk-parallel-item::before {content: \"\";position: absolute;border-left: 1px solid gray;box-sizing: border-box;top: 0;bottom: 0;left: 50%;z-index: -1;}#sk-container-id-3 div.sk-parallel-item {display: flex;flex-direction: column;z-index: 1;position: relative;background-color: white;}#sk-container-id-3 div.sk-parallel-item:first-child::after {align-self: flex-end;width: 50%;}#sk-container-id-3 div.sk-parallel-item:last-child::after {align-self: flex-start;width: 50%;}#sk-container-id-3 div.sk-parallel-item:only-child::after {width: 0;}#sk-container-id-3 div.sk-dashed-wrapped {border: 1px dashed gray;margin: 0 0.4em 0.5em 0.4em;box-sizing: border-box;padding-bottom: 0.4em;background-color: white;}#sk-container-id-3 div.sk-label label {font-family: monospace;font-weight: bold;display: inline-block;line-height: 1.2em;}#sk-container-id-3 div.sk-label-container {text-align: center;}#sk-container-id-3 div.sk-container {/* jupyter's `normalize.less` sets `[hidden] { display: none; }` but bootstrap.min.css set `[hidden] { display: none !important; }` so we also need the `!important` here to be able to override the default hidden behavior on the sphinx rendered scikit-learn.org. See: https://github.com/scikit-learn/scikit-learn/issues/21755 */display: inline-block !important;position: relative;}#sk-container-id-3 div.sk-text-repr-fallback {display: none;}</style><div id=\"sk-container-id-3\" class=\"sk-top-container\"><div class=\"sk-text-repr-fallback\"><pre>LGBMRegressor(max_depth=7, n_estimators=500, num_leaves=1000,\n",
       "              objective=&#x27;regression&#x27;)</pre><b>In a Jupyter environment, please rerun this cell to show the HTML representation or trust the notebook. <br />On GitHub, the HTML representation is unable to render, please try loading this page with nbviewer.org.</b></div><div class=\"sk-container\" hidden><div class=\"sk-item\"><div class=\"sk-estimator sk-toggleable\"><input class=\"sk-toggleable__control sk-hidden--visually\" id=\"sk-estimator-id-3\" type=\"checkbox\" checked><label for=\"sk-estimator-id-3\" class=\"sk-toggleable__label sk-toggleable__label-arrow\">LGBMRegressor</label><div class=\"sk-toggleable__content\"><pre>LGBMRegressor(max_depth=7, n_estimators=500, num_leaves=1000,\n",
       "              objective=&#x27;regression&#x27;)</pre></div></div></div></div></div>"
      ],
      "text/plain": [
       "LGBMRegressor(max_depth=7, n_estimators=500, num_leaves=1000,\n",
       "              objective='regression')"
      ]
     },
     "execution_count": 21,
     "metadata": {},
     "output_type": "execute_result"
    }
   ],
   "source": [
    "import lightgbm as lgb\n",
    "from lightgbm import LGBMRegressor\n",
    "lgbm2 = lgb.LGBMRegressor(n_estimators=500, num_leaves=1000, max_depth=25, objective='regression')\n",
    "lgbm2.fit(X_train, y_train)"
   ]
  },
  {
   "cell_type": "code",
   "execution_count": 22,
   "id": "a6f59324",
   "metadata": {},
   "outputs": [
    {
     "name": "stdout",
     "output_type": "stream",
     "text": [
      "0.7109159444697103 0.6961747376598193\n"
     ]
    }
   ],
   "source": [
    "print(lgbm2.score(X_train, y_train), lgbm2.score(X_test, y_test))"
   ]
  },
  {
   "cell_type": "markdown",
   "id": "9de41a32",
   "metadata": {},
   "source": [
    "XGB (The selected model)"
   ]
  },
  {
   "cell_type": "code",
   "execution_count": 12,
   "id": "32fc12f6",
   "metadata": {},
   "outputs": [],
   "source": [
    "import xgboost as xgb"
   ]
  },
  {
   "cell_type": "code",
   "execution_count": 13,
   "id": "9e8a51e7",
   "metadata": {},
   "outputs": [],
   "source": [
    "xgb2 = xgb.XGBRegressor(learning_rate=0.2, n_estimators=1000, max_depth=7, eta=0.005, subsample=1, colsample_bytree=1)"
   ]
  },
  {
   "cell_type": "code",
   "execution_count": 14,
   "id": "16b7ad02",
   "metadata": {},
   "outputs": [
    {
     "data": {
      "text/html": [
       "<style>#sk-container-id-1 {color: black;background-color: white;}#sk-container-id-1 pre{padding: 0;}#sk-container-id-1 div.sk-toggleable {background-color: white;}#sk-container-id-1 label.sk-toggleable__label {cursor: pointer;display: block;width: 100%;margin-bottom: 0;padding: 0.3em;box-sizing: border-box;text-align: center;}#sk-container-id-1 label.sk-toggleable__label-arrow:before {content: \"▸\";float: left;margin-right: 0.25em;color: #696969;}#sk-container-id-1 label.sk-toggleable__label-arrow:hover:before {color: black;}#sk-container-id-1 div.sk-estimator:hover label.sk-toggleable__label-arrow:before {color: black;}#sk-container-id-1 div.sk-toggleable__content {max-height: 0;max-width: 0;overflow: hidden;text-align: left;background-color: #f0f8ff;}#sk-container-id-1 div.sk-toggleable__content pre {margin: 0.2em;color: black;border-radius: 0.25em;background-color: #f0f8ff;}#sk-container-id-1 input.sk-toggleable__control:checked~div.sk-toggleable__content {max-height: 200px;max-width: 100%;overflow: auto;}#sk-container-id-1 input.sk-toggleable__control:checked~label.sk-toggleable__label-arrow:before {content: \"▾\";}#sk-container-id-1 div.sk-estimator input.sk-toggleable__control:checked~label.sk-toggleable__label {background-color: #d4ebff;}#sk-container-id-1 div.sk-label input.sk-toggleable__control:checked~label.sk-toggleable__label {background-color: #d4ebff;}#sk-container-id-1 input.sk-hidden--visually {border: 0;clip: rect(1px 1px 1px 1px);clip: rect(1px, 1px, 1px, 1px);height: 1px;margin: -1px;overflow: hidden;padding: 0;position: absolute;width: 1px;}#sk-container-id-1 div.sk-estimator {font-family: monospace;background-color: #f0f8ff;border: 1px dotted black;border-radius: 0.25em;box-sizing: border-box;margin-bottom: 0.5em;}#sk-container-id-1 div.sk-estimator:hover {background-color: #d4ebff;}#sk-container-id-1 div.sk-parallel-item::after {content: \"\";width: 100%;border-bottom: 1px solid gray;flex-grow: 1;}#sk-container-id-1 div.sk-label:hover label.sk-toggleable__label {background-color: #d4ebff;}#sk-container-id-1 div.sk-serial::before {content: \"\";position: absolute;border-left: 1px solid gray;box-sizing: border-box;top: 0;bottom: 0;left: 50%;z-index: 0;}#sk-container-id-1 div.sk-serial {display: flex;flex-direction: column;align-items: center;background-color: white;padding-right: 0.2em;padding-left: 0.2em;position: relative;}#sk-container-id-1 div.sk-item {position: relative;z-index: 1;}#sk-container-id-1 div.sk-parallel {display: flex;align-items: stretch;justify-content: center;background-color: white;position: relative;}#sk-container-id-1 div.sk-item::before, #sk-container-id-1 div.sk-parallel-item::before {content: \"\";position: absolute;border-left: 1px solid gray;box-sizing: border-box;top: 0;bottom: 0;left: 50%;z-index: -1;}#sk-container-id-1 div.sk-parallel-item {display: flex;flex-direction: column;z-index: 1;position: relative;background-color: white;}#sk-container-id-1 div.sk-parallel-item:first-child::after {align-self: flex-end;width: 50%;}#sk-container-id-1 div.sk-parallel-item:last-child::after {align-self: flex-start;width: 50%;}#sk-container-id-1 div.sk-parallel-item:only-child::after {width: 0;}#sk-container-id-1 div.sk-dashed-wrapped {border: 1px dashed gray;margin: 0 0.4em 0.5em 0.4em;box-sizing: border-box;padding-bottom: 0.4em;background-color: white;}#sk-container-id-1 div.sk-label label {font-family: monospace;font-weight: bold;display: inline-block;line-height: 1.2em;}#sk-container-id-1 div.sk-label-container {text-align: center;}#sk-container-id-1 div.sk-container {/* jupyter's `normalize.less` sets `[hidden] { display: none; }` but bootstrap.min.css set `[hidden] { display: none !important; }` so we also need the `!important` here to be able to override the default hidden behavior on the sphinx rendered scikit-learn.org. See: https://github.com/scikit-learn/scikit-learn/issues/21755 */display: inline-block !important;position: relative;}#sk-container-id-1 div.sk-text-repr-fallback {display: none;}</style><div id=\"sk-container-id-1\" class=\"sk-top-container\"><div class=\"sk-text-repr-fallback\"><pre>XGBRegressor(base_score=0.5, booster=&#x27;gbtree&#x27;, callbacks=None,\n",
       "             colsample_bylevel=1, colsample_bynode=1, colsample_bytree=1,\n",
       "             early_stopping_rounds=None, enable_categorical=False, eta=0.005,\n",
       "             eval_metric=None, gamma=0, gpu_id=-1, grow_policy=&#x27;depthwise&#x27;,\n",
       "             importance_type=None, interaction_constraints=&#x27;&#x27;,\n",
       "             learning_rate=0.2, max_bin=256, max_cat_to_onehot=4,\n",
       "             max_delta_step=0, max_depth=7, max_leaves=0, min_child_weight=1,\n",
       "             missing=nan, monotone_constraints=&#x27;()&#x27;, n_estimators=1000,\n",
       "             n_jobs=0, num_parallel_tree=1, predictor=&#x27;auto&#x27;, random_state=0,\n",
       "             reg_alpha=0, ...)</pre><b>In a Jupyter environment, please rerun this cell to show the HTML representation or trust the notebook. <br />On GitHub, the HTML representation is unable to render, please try loading this page with nbviewer.org.</b></div><div class=\"sk-container\" hidden><div class=\"sk-item\"><div class=\"sk-estimator sk-toggleable\"><input class=\"sk-toggleable__control sk-hidden--visually\" id=\"sk-estimator-id-1\" type=\"checkbox\" checked><label for=\"sk-estimator-id-1\" class=\"sk-toggleable__label sk-toggleable__label-arrow\">XGBRegressor</label><div class=\"sk-toggleable__content\"><pre>XGBRegressor(base_score=0.5, booster=&#x27;gbtree&#x27;, callbacks=None,\n",
       "             colsample_bylevel=1, colsample_bynode=1, colsample_bytree=1,\n",
       "             early_stopping_rounds=None, enable_categorical=False, eta=0.005,\n",
       "             eval_metric=None, gamma=0, gpu_id=-1, grow_policy=&#x27;depthwise&#x27;,\n",
       "             importance_type=None, interaction_constraints=&#x27;&#x27;,\n",
       "             learning_rate=0.2, max_bin=256, max_cat_to_onehot=4,\n",
       "             max_delta_step=0, max_depth=7, max_leaves=0, min_child_weight=1,\n",
       "             missing=nan, monotone_constraints=&#x27;()&#x27;, n_estimators=1000,\n",
       "             n_jobs=0, num_parallel_tree=1, predictor=&#x27;auto&#x27;, random_state=0,\n",
       "             reg_alpha=0, ...)</pre></div></div></div></div></div>"
      ],
      "text/plain": [
       "XGBRegressor(base_score=0.5, booster='gbtree', callbacks=None,\n",
       "             colsample_bylevel=1, colsample_bynode=1, colsample_bytree=1,\n",
       "             early_stopping_rounds=None, enable_categorical=False, eta=0.005,\n",
       "             eval_metric=None, gamma=0, gpu_id=-1, grow_policy='depthwise',\n",
       "             importance_type=None, interaction_constraints='',\n",
       "             learning_rate=0.2, max_bin=256, max_cat_to_onehot=4,\n",
       "             max_delta_step=0, max_depth=7, max_leaves=0, min_child_weight=1,\n",
       "             missing=nan, monotone_constraints='()', n_estimators=1000,\n",
       "             n_jobs=0, num_parallel_tree=1, predictor='auto', random_state=0,\n",
       "             reg_alpha=0, ...)"
      ]
     },
     "execution_count": 14,
     "metadata": {},
     "output_type": "execute_result"
    }
   ],
   "source": [
    "xgb2.fit(X_train, y_train)"
   ]
  },
  {
   "cell_type": "code",
   "execution_count": 15,
   "id": "6275f755",
   "metadata": {},
   "outputs": [
    {
     "name": "stdout",
     "output_type": "stream",
     "text": [
      "0.7584915342144163 0.7040771849763778\n"
     ]
    }
   ],
   "source": [
    "print(xgb2.score(X_train, y_train), xgb2.score(X_test, y_test))"
   ]
  },
  {
   "cell_type": "markdown",
   "id": "f25d8084",
   "metadata": {},
   "source": [
    "## Calculating ETA and route"
   ]
  },
  {
   "cell_type": "code",
   "execution_count": 16,
   "id": "82bff9c6",
   "metadata": {},
   "outputs": [],
   "source": [
    "import networkx as nx\n",
    "\n",
    "G = nx.read_gpickle(\"network.gpickle\")\n",
    "\n",
    "attrs = nx.to_pandas_edgelist(G)\n",
    "attrs['weight'] = 0\n",
    "attrs_df = attrs.copy()\n",
    "\n",
    "routes = []\n",
    "eta = []\n",
    "dynamic_eta = []\n",
    "node_ts = []\n",
    "\n",
    "for ind in df2.index: \n",
    "\n",
    "    times = 0\n",
    "    node_t =[0] \n",
    "    attrs_df['minute'] = df2['route_start_t'][ind]\n",
    "    attrs_df['is_holiday'] = df2['is_holiday'][ind]\n",
    "    attrs_df['weather'] = df2['weather'][ind]\n",
    "    \n",
    "    y_pred = xgb2.predict(attrs_df[[\"length\", \"minute\", \"is_holiday\", \"weather\"]])\n",
    "    attrs['weight'] = y_pred\n",
    "    G2 = nx.from_pandas_edgelist(attrs)\n",
    "    route = nx.dijkstra_path(G2, df2['src'][ind], df2['dest'][ind], weight = 'weight')\n",
    "    \n",
    "    for node in range(len(route)):\n",
    "        if 0 <= node + 1 < len(route):\n",
    "            t = attrs.loc[(attrs[\"source\"] == route[node]) & (attrs[\"target\"] == route[node + 1]) \n",
    "            | (attrs[\"source\"] == route[node + 1]) & (attrs[\"target\"] == route[node])][\"weight\"].values[0]\n",
    "            t_sum = node_t[-1] + (t/60)\n",
    "            node_t.append(t_sum)\n",
    "            times += t \n",
    "    node_t = [round(x+df2['route_start_t'][ind]) for x in node_t]\n",
    "    node_t = node_t[1:-1]\n",
    "    node_ts.append(node_t)\n",
    "    dynamic_times = attrs.loc[(attrs[\"source\"] == route[0]) & (attrs[\"target\"] == route[1]) \n",
    "    | (attrs[\"source\"] == route[1]) & (attrs[\"target\"] == route[0])][\"weight\"].values[0]\n",
    "    for n in range(len(node_t)):\n",
    "        if 0 <= n < len(node_t):\n",
    "            attrs_df['minute'] = 1105\n",
    "            y_pred2 = xgb2.predict(attrs_df[[\"length\", \"minute\", \"is_holiday\", \"weather\"]])\n",
    "            attrs_df['weight'] = y_pred2\n",
    "            t = attrs_df.loc[(attrs_df[\"source\"] == route[n + 1]) & (attrs_df[\"target\"] == route[n + 2]) \n",
    "            | (attrs_df[\"source\"] == route[n + 2]) & (attrs_df[\"target\"] == route[n +1])][\"weight\"].values[0]\n",
    "            dynamic_times += t\n",
    "    routes.append(route)\n",
    "    #static time\n",
    "    eta.append(times)\n",
    "    #dynamic time\n",
    "    dynamic_eta.append(dynamic_times)"
   ]
  },
  {
   "cell_type": "markdown",
   "id": "f518afc1",
   "metadata": {},
   "source": [
    "## Output"
   ]
  },
  {
   "cell_type": "code",
   "execution_count": 19,
   "id": "0201b084",
   "metadata": {},
   "outputs": [
    {
     "data": {
      "text/html": [
       "<div>\n",
       "<style scoped>\n",
       "    .dataframe tbody tr th:only-of-type {\n",
       "        vertical-align: middle;\n",
       "    }\n",
       "\n",
       "    .dataframe tbody tr th {\n",
       "        vertical-align: top;\n",
       "    }\n",
       "\n",
       "    .dataframe thead th {\n",
       "        text-align: right;\n",
       "    }\n",
       "</style>\n",
       "<table border=\"1\" class=\"dataframe\">\n",
       "  <thead>\n",
       "    <tr style=\"text-align: right;\">\n",
       "      <th></th>\n",
       "      <th>src</th>\n",
       "      <th>dest</th>\n",
       "      <th>route_start_t</th>\n",
       "      <th>is_holiday</th>\n",
       "      <th>weather</th>\n",
       "      <th>eta</th>\n",
       "      <th>route</th>\n",
       "    </tr>\n",
       "  </thead>\n",
       "  <tbody>\n",
       "    <tr>\n",
       "      <th>0</th>\n",
       "      <td>27</td>\n",
       "      <td>90</td>\n",
       "      <td>521</td>\n",
       "      <td>0</td>\n",
       "      <td>0</td>\n",
       "      <td>791.112473</td>\n",
       "      <td>[27, 65, 143, 64, 36, 90]</td>\n",
       "    </tr>\n",
       "    <tr>\n",
       "      <th>1</th>\n",
       "      <td>60</td>\n",
       "      <td>114</td>\n",
       "      <td>835</td>\n",
       "      <td>1</td>\n",
       "      <td>2</td>\n",
       "      <td>1338.420654</td>\n",
       "      <td>[60, 86, 56, 163, 10, 114]</td>\n",
       "    </tr>\n",
       "    <tr>\n",
       "      <th>2</th>\n",
       "      <td>18</td>\n",
       "      <td>112</td>\n",
       "      <td>668</td>\n",
       "      <td>0</td>\n",
       "      <td>0</td>\n",
       "      <td>735.948837</td>\n",
       "      <td>[18, 36, 64, 107, 68, 112]</td>\n",
       "    </tr>\n",
       "    <tr>\n",
       "      <th>3</th>\n",
       "      <td>96</td>\n",
       "      <td>18</td>\n",
       "      <td>1114</td>\n",
       "      <td>0</td>\n",
       "      <td>2</td>\n",
       "      <td>1278.707184</td>\n",
       "      <td>[96, 57, 36, 18]</td>\n",
       "    </tr>\n",
       "    <tr>\n",
       "      <th>4</th>\n",
       "      <td>66</td>\n",
       "      <td>135</td>\n",
       "      <td>1116</td>\n",
       "      <td>0</td>\n",
       "      <td>0</td>\n",
       "      <td>1145.112167</td>\n",
       "      <td>[66, 62, 39, 83, 146, 135]</td>\n",
       "    </tr>\n",
       "    <tr>\n",
       "      <th>...</th>\n",
       "      <td>...</td>\n",
       "      <td>...</td>\n",
       "      <td>...</td>\n",
       "      <td>...</td>\n",
       "      <td>...</td>\n",
       "      <td>...</td>\n",
       "      <td>...</td>\n",
       "    </tr>\n",
       "    <tr>\n",
       "      <th>9995</th>\n",
       "      <td>82</td>\n",
       "      <td>194</td>\n",
       "      <td>605</td>\n",
       "      <td>0</td>\n",
       "      <td>0</td>\n",
       "      <td>849.495598</td>\n",
       "      <td>[82, 149, 4, 130, 100, 147, 194]</td>\n",
       "    </tr>\n",
       "    <tr>\n",
       "      <th>9996</th>\n",
       "      <td>75</td>\n",
       "      <td>159</td>\n",
       "      <td>497</td>\n",
       "      <td>0</td>\n",
       "      <td>1</td>\n",
       "      <td>591.361290</td>\n",
       "      <td>[75, 29, 22, 167, 159]</td>\n",
       "    </tr>\n",
       "    <tr>\n",
       "      <th>9997</th>\n",
       "      <td>14</td>\n",
       "      <td>176</td>\n",
       "      <td>712</td>\n",
       "      <td>0</td>\n",
       "      <td>0</td>\n",
       "      <td>810.456848</td>\n",
       "      <td>[14, 10, 199, 147, 89, 176]</td>\n",
       "    </tr>\n",
       "    <tr>\n",
       "      <th>9998</th>\n",
       "      <td>14</td>\n",
       "      <td>77</td>\n",
       "      <td>1136</td>\n",
       "      <td>0</td>\n",
       "      <td>0</td>\n",
       "      <td>670.110413</td>\n",
       "      <td>[14, 71, 85, 77]</td>\n",
       "    </tr>\n",
       "    <tr>\n",
       "      <th>9999</th>\n",
       "      <td>22</td>\n",
       "      <td>59</td>\n",
       "      <td>1105</td>\n",
       "      <td>0</td>\n",
       "      <td>0</td>\n",
       "      <td>661.514709</td>\n",
       "      <td>[22, 100, 130, 59]</td>\n",
       "    </tr>\n",
       "  </tbody>\n",
       "</table>\n",
       "<p>10000 rows × 7 columns</p>\n",
       "</div>"
      ],
      "text/plain": [
       "      src  dest  route_start_t  is_holiday  weather          eta  \\\n",
       "0      27    90            521           0        0   791.112473   \n",
       "1      60   114            835           1        2  1338.420654   \n",
       "2      18   112            668           0        0   735.948837   \n",
       "3      96    18           1114           0        2  1278.707184   \n",
       "4      66   135           1116           0        0  1145.112167   \n",
       "...   ...   ...            ...         ...      ...          ...   \n",
       "9995   82   194            605           0        0   849.495598   \n",
       "9996   75   159            497           0        1   591.361290   \n",
       "9997   14   176            712           0        0   810.456848   \n",
       "9998   14    77           1136           0        0   670.110413   \n",
       "9999   22    59           1105           0        0   661.514709   \n",
       "\n",
       "                                 route  \n",
       "0            [27, 65, 143, 64, 36, 90]  \n",
       "1           [60, 86, 56, 163, 10, 114]  \n",
       "2           [18, 36, 64, 107, 68, 112]  \n",
       "3                     [96, 57, 36, 18]  \n",
       "4           [66, 62, 39, 83, 146, 135]  \n",
       "...                                ...  \n",
       "9995  [82, 149, 4, 130, 100, 147, 194]  \n",
       "9996            [75, 29, 22, 167, 159]  \n",
       "9997       [14, 10, 199, 147, 89, 176]  \n",
       "9998                  [14, 71, 85, 77]  \n",
       "9999                [22, 100, 130, 59]  \n",
       "\n",
       "[10000 rows x 7 columns]"
      ]
     },
     "execution_count": 19,
     "metadata": {},
     "output_type": "execute_result"
    }
   ],
   "source": [
    "df2['route'] = routes\n",
    "df2['eta'] = eta\n",
    "df2"
   ]
  },
  {
   "cell_type": "code",
   "execution_count": 21,
   "id": "a69f765c",
   "metadata": {},
   "outputs": [],
   "source": [
    "compression_opts = dict(method='zip', archive_name='test_cases.csv')  \n",
    "\n",
    "df2.to_csv('test_cases.zip', index=False, compression=compression_opts) "
   ]
  },
  {
   "cell_type": "code",
   "execution_count": 18,
   "id": "d8fb36e0",
   "metadata": {},
   "outputs": [
    {
     "data": {
      "text/html": [
       "<div>\n",
       "<style scoped>\n",
       "    .dataframe tbody tr th:only-of-type {\n",
       "        vertical-align: middle;\n",
       "    }\n",
       "\n",
       "    .dataframe tbody tr th {\n",
       "        vertical-align: top;\n",
       "    }\n",
       "\n",
       "    .dataframe thead th {\n",
       "        text-align: right;\n",
       "    }\n",
       "</style>\n",
       "<table border=\"1\" class=\"dataframe\">\n",
       "  <thead>\n",
       "    <tr style=\"text-align: right;\">\n",
       "      <th></th>\n",
       "      <th>src</th>\n",
       "      <th>dest</th>\n",
       "      <th>route_start_t</th>\n",
       "      <th>is_holiday</th>\n",
       "      <th>weather</th>\n",
       "      <th>eta</th>\n",
       "      <th>route</th>\n",
       "    </tr>\n",
       "  </thead>\n",
       "  <tbody>\n",
       "    <tr>\n",
       "      <th>0</th>\n",
       "      <td>27</td>\n",
       "      <td>90</td>\n",
       "      <td>521</td>\n",
       "      <td>0</td>\n",
       "      <td>0</td>\n",
       "      <td>1101.200684</td>\n",
       "      <td>[27, 65, 143, 64, 36, 90]</td>\n",
       "    </tr>\n",
       "    <tr>\n",
       "      <th>1</th>\n",
       "      <td>60</td>\n",
       "      <td>114</td>\n",
       "      <td>835</td>\n",
       "      <td>1</td>\n",
       "      <td>2</td>\n",
       "      <td>1963.603638</td>\n",
       "      <td>[60, 86, 56, 163, 10, 114]</td>\n",
       "    </tr>\n",
       "    <tr>\n",
       "      <th>2</th>\n",
       "      <td>18</td>\n",
       "      <td>112</td>\n",
       "      <td>668</td>\n",
       "      <td>0</td>\n",
       "      <td>0</td>\n",
       "      <td>1001.369263</td>\n",
       "      <td>[18, 36, 64, 107, 68, 112]</td>\n",
       "    </tr>\n",
       "    <tr>\n",
       "      <th>3</th>\n",
       "      <td>96</td>\n",
       "      <td>18</td>\n",
       "      <td>1114</td>\n",
       "      <td>0</td>\n",
       "      <td>2</td>\n",
       "      <td>1239.786011</td>\n",
       "      <td>[96, 57, 36, 18]</td>\n",
       "    </tr>\n",
       "    <tr>\n",
       "      <th>4</th>\n",
       "      <td>66</td>\n",
       "      <td>135</td>\n",
       "      <td>1116</td>\n",
       "      <td>0</td>\n",
       "      <td>0</td>\n",
       "      <td>1128.063354</td>\n",
       "      <td>[66, 62, 39, 83, 146, 135]</td>\n",
       "    </tr>\n",
       "    <tr>\n",
       "      <th>...</th>\n",
       "      <td>...</td>\n",
       "      <td>...</td>\n",
       "      <td>...</td>\n",
       "      <td>...</td>\n",
       "      <td>...</td>\n",
       "      <td>...</td>\n",
       "      <td>...</td>\n",
       "    </tr>\n",
       "    <tr>\n",
       "      <th>9995</th>\n",
       "      <td>82</td>\n",
       "      <td>194</td>\n",
       "      <td>605</td>\n",
       "      <td>0</td>\n",
       "      <td>0</td>\n",
       "      <td>1125.904297</td>\n",
       "      <td>[82, 149, 4, 130, 100, 147, 194]</td>\n",
       "    </tr>\n",
       "    <tr>\n",
       "      <th>9996</th>\n",
       "      <td>75</td>\n",
       "      <td>159</td>\n",
       "      <td>497</td>\n",
       "      <td>0</td>\n",
       "      <td>1</td>\n",
       "      <td>746.662964</td>\n",
       "      <td>[75, 29, 22, 167, 159]</td>\n",
       "    </tr>\n",
       "    <tr>\n",
       "      <th>9997</th>\n",
       "      <td>14</td>\n",
       "      <td>176</td>\n",
       "      <td>712</td>\n",
       "      <td>0</td>\n",
       "      <td>0</td>\n",
       "      <td>1220.525269</td>\n",
       "      <td>[14, 10, 199, 147, 89, 176]</td>\n",
       "    </tr>\n",
       "    <tr>\n",
       "      <th>9998</th>\n",
       "      <td>14</td>\n",
       "      <td>77</td>\n",
       "      <td>1136</td>\n",
       "      <td>0</td>\n",
       "      <td>0</td>\n",
       "      <td>669.522278</td>\n",
       "      <td>[14, 71, 85, 77]</td>\n",
       "    </tr>\n",
       "    <tr>\n",
       "      <th>9999</th>\n",
       "      <td>22</td>\n",
       "      <td>59</td>\n",
       "      <td>1105</td>\n",
       "      <td>0</td>\n",
       "      <td>0</td>\n",
       "      <td>661.514709</td>\n",
       "      <td>[22, 100, 130, 59]</td>\n",
       "    </tr>\n",
       "  </tbody>\n",
       "</table>\n",
       "<p>10000 rows × 7 columns</p>\n",
       "</div>"
      ],
      "text/plain": [
       "      src  dest  route_start_t  is_holiday  weather          eta  \\\n",
       "0      27    90            521           0        0  1101.200684   \n",
       "1      60   114            835           1        2  1963.603638   \n",
       "2      18   112            668           0        0  1001.369263   \n",
       "3      96    18           1114           0        2  1239.786011   \n",
       "4      66   135           1116           0        0  1128.063354   \n",
       "...   ...   ...            ...         ...      ...          ...   \n",
       "9995   82   194            605           0        0  1125.904297   \n",
       "9996   75   159            497           0        1   746.662964   \n",
       "9997   14   176            712           0        0  1220.525269   \n",
       "9998   14    77           1136           0        0   669.522278   \n",
       "9999   22    59           1105           0        0   661.514709   \n",
       "\n",
       "                                 route  \n",
       "0            [27, 65, 143, 64, 36, 90]  \n",
       "1           [60, 86, 56, 163, 10, 114]  \n",
       "2           [18, 36, 64, 107, 68, 112]  \n",
       "3                     [96, 57, 36, 18]  \n",
       "4           [66, 62, 39, 83, 146, 135]  \n",
       "...                                ...  \n",
       "9995  [82, 149, 4, 130, 100, 147, 194]  \n",
       "9996            [75, 29, 22, 167, 159]  \n",
       "9997       [14, 10, 199, 147, 89, 176]  \n",
       "9998                  [14, 71, 85, 77]  \n",
       "9999                [22, 100, 130, 59]  \n",
       "\n",
       "[10000 rows x 7 columns]"
      ]
     },
     "execution_count": 18,
     "metadata": {},
     "output_type": "execute_result"
    }
   ],
   "source": [
    "df2['route'] = routes\n",
    "df2['eta'] = dynamic_eta\n",
    "df2"
   ]
  },
  {
   "cell_type": "code",
   "execution_count": 23,
   "id": "70540977",
   "metadata": {},
   "outputs": [],
   "source": [
    "compression_opts = dict(method='zip', archive_name='dynamic_test_cases.csv')  \n",
    "\n",
    "df2.to_csv('dynamic_test_cases.zip', index=False, compression=compression_opts) "
   ]
  }
 ],
 "metadata": {
  "kernelspec": {
   "display_name": "Python 3 (ipykernel)",
   "language": "python",
   "name": "python3"
  },
  "language_info": {
   "codemirror_mode": {
    "name": "ipython",
    "version": 3
   },
   "file_extension": ".py",
   "mimetype": "text/x-python",
   "name": "python",
   "nbconvert_exporter": "python",
   "pygments_lexer": "ipython3",
   "version": "3.10.2"
  },
  "vscode": {
   "interpreter": {
    "hash": "213524bb45a1aeaf737b1d8c77d7b8db5d425938d9dffc5f4bc6fe6dd3324700"
   }
  }
 },
 "nbformat": 4,
 "nbformat_minor": 5
}
