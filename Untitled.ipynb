{
 "cells": [
  {
   "cell_type": "code",
   "execution_count": 2,
   "id": "8c39297d",
   "metadata": {},
   "outputs": [],
   "source": [
    "import pandas as pd\n",
    "import numpy as np\n"
   ]
  },
  {
   "cell_type": "code",
   "execution_count": 3,
   "id": "0eec29a3",
   "metadata": {},
   "outputs": [
    {
     "data": {
      "text/html": [
       "<div>\n",
       "<style scoped>\n",
       "    .dataframe tbody tr th:only-of-type {\n",
       "        vertical-align: middle;\n",
       "    }\n",
       "\n",
       "    .dataframe tbody tr th {\n",
       "        vertical-align: top;\n",
       "    }\n",
       "\n",
       "    .dataframe thead th {\n",
       "        text-align: right;\n",
       "    }\n",
       "</style>\n",
       "<table border=\"1\" class=\"dataframe\">\n",
       "  <thead>\n",
       "    <tr style=\"text-align: right;\">\n",
       "      <th></th>\n",
       "      <th>edge_id</th>\n",
       "      <th>length</th>\n",
       "      <th>minute</th>\n",
       "      <th>speed</th>\n",
       "      <th>is_holiday</th>\n",
       "      <th>weather</th>\n",
       "    </tr>\n",
       "  </thead>\n",
       "  <tbody>\n",
       "    <tr>\n",
       "      <th>0</th>\n",
       "      <td>246</td>\n",
       "      <td>1726</td>\n",
       "      <td>505</td>\n",
       "      <td>22.140185</td>\n",
       "      <td>1</td>\n",
       "      <td>1</td>\n",
       "    </tr>\n",
       "    <tr>\n",
       "      <th>1</th>\n",
       "      <td>316</td>\n",
       "      <td>1750</td>\n",
       "      <td>740</td>\n",
       "      <td>54.303369</td>\n",
       "      <td>0</td>\n",
       "      <td>0</td>\n",
       "    </tr>\n",
       "    <tr>\n",
       "      <th>2</th>\n",
       "      <td>387</td>\n",
       "      <td>1612</td>\n",
       "      <td>745</td>\n",
       "      <td>56.303877</td>\n",
       "      <td>0</td>\n",
       "      <td>1</td>\n",
       "    </tr>\n",
       "    <tr>\n",
       "      <th>3</th>\n",
       "      <td>303</td>\n",
       "      <td>1927</td>\n",
       "      <td>1335</td>\n",
       "      <td>23.641228</td>\n",
       "      <td>0</td>\n",
       "      <td>2</td>\n",
       "    </tr>\n",
       "    <tr>\n",
       "      <th>4</th>\n",
       "      <td>250</td>\n",
       "      <td>1901</td>\n",
       "      <td>915</td>\n",
       "      <td>41.503161</td>\n",
       "      <td>0</td>\n",
       "      <td>1</td>\n",
       "    </tr>\n",
       "  </tbody>\n",
       "</table>\n",
       "</div>"
      ],
      "text/plain": [
       "   edge_id  length  minute      speed  is_holiday  weather\n",
       "0      246    1726     505  22.140185           1        1\n",
       "1      316    1750     740  54.303369           0        0\n",
       "2      387    1612     745  56.303877           0        1\n",
       "3      303    1927    1335  23.641228           0        2\n",
       "4      250    1901     915  41.503161           0        1"
      ]
     },
     "execution_count": 3,
     "metadata": {},
     "output_type": "execute_result"
    }
   ],
   "source": [
    "df = pd.read_csv('dataset.csv')\n",
    "df.head()"
   ]
  },
  {
   "cell_type": "code",
   "execution_count": 4,
   "id": "10533f9d",
   "metadata": {},
   "outputs": [
    {
     "data": {
      "text/html": [
       "<div>\n",
       "<style scoped>\n",
       "    .dataframe tbody tr th:only-of-type {\n",
       "        vertical-align: middle;\n",
       "    }\n",
       "\n",
       "    .dataframe tbody tr th {\n",
       "        vertical-align: top;\n",
       "    }\n",
       "\n",
       "    .dataframe thead th {\n",
       "        text-align: right;\n",
       "    }\n",
       "</style>\n",
       "<table border=\"1\" class=\"dataframe\">\n",
       "  <thead>\n",
       "    <tr style=\"text-align: right;\">\n",
       "      <th></th>\n",
       "      <th>edge_id</th>\n",
       "      <th>length</th>\n",
       "      <th>minute</th>\n",
       "      <th>speed</th>\n",
       "      <th>is_holiday</th>\n",
       "      <th>weather</th>\n",
       "    </tr>\n",
       "  </thead>\n",
       "  <tbody>\n",
       "    <tr>\n",
       "      <th>count</th>\n",
       "      <td>784224.000000</td>\n",
       "      <td>784224.000000</td>\n",
       "      <td>784224.000000</td>\n",
       "      <td>768540.000000</td>\n",
       "      <td>784224.000000</td>\n",
       "      <td>784224.000000</td>\n",
       "    </tr>\n",
       "    <tr>\n",
       "      <th>mean</th>\n",
       "      <td>194.876607</td>\n",
       "      <td>1742.886889</td>\n",
       "      <td>717.500000</td>\n",
       "      <td>42.649084</td>\n",
       "      <td>0.142857</td>\n",
       "      <td>0.450133</td>\n",
       "    </tr>\n",
       "    <tr>\n",
       "      <th>std</th>\n",
       "      <td>112.482005</td>\n",
       "      <td>144.971298</td>\n",
       "      <td>415.689953</td>\n",
       "      <td>12.845111</td>\n",
       "      <td>0.349927</td>\n",
       "      <td>0.589825</td>\n",
       "    </tr>\n",
       "    <tr>\n",
       "      <th>min</th>\n",
       "      <td>0.000000</td>\n",
       "      <td>1501.000000</td>\n",
       "      <td>0.000000</td>\n",
       "      <td>3.290549</td>\n",
       "      <td>0.000000</td>\n",
       "      <td>0.000000</td>\n",
       "    </tr>\n",
       "    <tr>\n",
       "      <th>25%</th>\n",
       "      <td>98.000000</td>\n",
       "      <td>1612.000000</td>\n",
       "      <td>358.750000</td>\n",
       "      <td>34.569791</td>\n",
       "      <td>0.000000</td>\n",
       "      <td>0.000000</td>\n",
       "    </tr>\n",
       "    <tr>\n",
       "      <th>50%</th>\n",
       "      <td>195.000000</td>\n",
       "      <td>1741.000000</td>\n",
       "      <td>717.500000</td>\n",
       "      <td>42.591930</td>\n",
       "      <td>0.000000</td>\n",
       "      <td>0.000000</td>\n",
       "    </tr>\n",
       "    <tr>\n",
       "      <th>75%</th>\n",
       "      <td>292.000000</td>\n",
       "      <td>1865.000000</td>\n",
       "      <td>1076.250000</td>\n",
       "      <td>50.520944</td>\n",
       "      <td>0.000000</td>\n",
       "      <td>1.000000</td>\n",
       "    </tr>\n",
       "    <tr>\n",
       "      <th>max</th>\n",
       "      <td>389.000000</td>\n",
       "      <td>2000.000000</td>\n",
       "      <td>1435.000000</td>\n",
       "      <td>137.670425</td>\n",
       "      <td>1.000000</td>\n",
       "      <td>2.000000</td>\n",
       "    </tr>\n",
       "  </tbody>\n",
       "</table>\n",
       "</div>"
      ],
      "text/plain": [
       "             edge_id         length         minute          speed  \\\n",
       "count  784224.000000  784224.000000  784224.000000  768540.000000   \n",
       "mean      194.876607    1742.886889     717.500000      42.649084   \n",
       "std       112.482005     144.971298     415.689953      12.845111   \n",
       "min         0.000000    1501.000000       0.000000       3.290549   \n",
       "25%        98.000000    1612.000000     358.750000      34.569791   \n",
       "50%       195.000000    1741.000000     717.500000      42.591930   \n",
       "75%       292.000000    1865.000000    1076.250000      50.520944   \n",
       "max       389.000000    2000.000000    1435.000000     137.670425   \n",
       "\n",
       "          is_holiday        weather  \n",
       "count  784224.000000  784224.000000  \n",
       "mean        0.142857       0.450133  \n",
       "std         0.349927       0.589825  \n",
       "min         0.000000       0.000000  \n",
       "25%         0.000000       0.000000  \n",
       "50%         0.000000       0.000000  \n",
       "75%         0.000000       1.000000  \n",
       "max         1.000000       2.000000  "
      ]
     },
     "execution_count": 4,
     "metadata": {},
     "output_type": "execute_result"
    }
   ],
   "source": [
    "df.describe()"
   ]
  },
  {
   "cell_type": "code",
   "execution_count": 5,
   "id": "719cca3f",
   "metadata": {},
   "outputs": [
    {
     "data": {
      "text/plain": [
       "(784224, 6)"
      ]
     },
     "execution_count": 5,
     "metadata": {},
     "output_type": "execute_result"
    }
   ],
   "source": [
    "df.shape"
   ]
  }
 ],
 "metadata": {
  "kernelspec": {
   "display_name": "Python 3.9.12 ('base')",
   "language": "python",
   "name": "python3"
  },
  "language_info": {
   "codemirror_mode": {
    "name": "ipython",
    "version": 3
   },
   "file_extension": ".py",
   "mimetype": "text/x-python",
   "name": "python",
   "nbconvert_exporter": "python",
   "pygments_lexer": "ipython3",
   "version": "3.9.12"
  },
  "vscode": {
   "interpreter": {
    "hash": "5738b66ee47f0f9d9ea1135e67f98f88f7390116fe468d9b859e44d11ac2eed0"
   }
  }
 },
 "nbformat": 4,
 "nbformat_minor": 5
}
